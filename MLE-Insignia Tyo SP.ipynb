{
 "cells": [
  {
   "cell_type": "markdown",
   "metadata": {},
   "source": [
    "IMPORT DATA"
   ]
  },
  {
   "cell_type": "code",
   "execution_count": 296,
   "metadata": {},
   "outputs": [],
   "source": [
    "import pandas as pd\n",
    "import numpy as np\n",
    "import matplotlib.pyplot as plt\n",
    "import seaborn as sns\n",
    "\n",
    "df = pd.read_csv(\"house_data.csv\")"
   ]
  },
  {
   "cell_type": "markdown",
   "metadata": {},
   "source": [
    "DATA OVERVIEW"
   ]
  },
  {
   "cell_type": "code",
   "execution_count": 297,
   "metadata": {},
   "outputs": [
    {
     "name": "stdout",
     "output_type": "stream",
     "text": [
      "Data Head:\n",
      "   houseId  length  lengthUnit  width   widthUnit  isCarport           price  \\\n",
      "0        1      20       meter     10       meter          1   IDR 5 Billion   \n",
      "1        2      40       meter     20       meter          0  IDR 18 Billion   \n",
      "2        3    3000  centimeter   2000  centimeter          1  IDR 13 Billion   \n",
      "3        4    1000  centimeter   3000  centimeter          0   IDR 6 Billion   \n",
      "4        5      20       meter     50       meter          1  IDR 21 Billion   \n",
      "\n",
      "           notes  \n",
      "0  TRAINING DATA  \n",
      "1  TRAINING DATA  \n",
      "2  TRAINING DATA  \n",
      "3  TRAINING DATA  \n",
      "4  TRAINING DATA  \n",
      "\n",
      "Data Tail:\n",
      "   houseId  length lengthUnit  width widthUnit  isCarport           price  \\\n",
      "5        6      50      meter     10     meter          0  IDR 11 Billion   \n",
      "6        7      20      meter     20     meter          1   IDR 8 Billion   \n",
      "7        8      50      meter     20     meter          0  IDR 15 Billion   \n",
      "8        9      20      meter     30     meter          1  IDR 13 Billion   \n",
      "9       10      10      meter     20     meter          0  IDR 11 Billion   \n",
      "\n",
      "             notes  \n",
      "5        TEST DATA  \n",
      "6        TEST DATA  \n",
      "7  VALIDATION DATA  \n",
      "8  VALIDATION DATA  \n",
      "9  VALIDATION DATA  \n"
     ]
    }
   ],
   "source": [
    "print(\"Data Head:\")\n",
    "print(df.head())\n",
    "\n",
    "print(\"\\nData Tail:\")\n",
    "print(df.tail())"
   ]
  },
  {
   "cell_type": "markdown",
   "metadata": {},
   "source": [
    "GENERAL INFORMATION"
   ]
  },
  {
   "cell_type": "code",
   "execution_count": 298,
   "metadata": {},
   "outputs": [
    {
     "name": "stdout",
     "output_type": "stream",
     "text": [
      "\n",
      "Data Info:\n",
      "<class 'pandas.core.frame.DataFrame'>\n",
      "RangeIndex: 10 entries, 0 to 9\n",
      "Data columns (total 8 columns):\n",
      " #   Column      Non-Null Count  Dtype \n",
      "---  ------      --------------  ----- \n",
      " 0   houseId     10 non-null     int64 \n",
      " 1   length      10 non-null     int64 \n",
      " 2   lengthUnit  10 non-null     object\n",
      " 3   width       10 non-null     int64 \n",
      " 4   widthUnit   10 non-null     object\n",
      " 5   isCarport   10 non-null     int64 \n",
      " 6   price       10 non-null     object\n",
      " 7   notes       10 non-null     object\n",
      "dtypes: int64(4), object(4)\n",
      "memory usage: 772.0+ bytes\n",
      "None\n"
     ]
    }
   ],
   "source": [
    "print(\"\\nData Info:\")\n",
    "print(df.info())"
   ]
  },
  {
   "cell_type": "code",
   "execution_count": 299,
   "metadata": {},
   "outputs": [
    {
     "name": "stdout",
     "output_type": "stream",
     "text": [
      "\n",
      "Data Describe (Numeric Columns):\n",
      "        houseId       length        width  isCarport\n",
      "count  10.00000    10.000000    10.000000  10.000000\n",
      "mean    5.50000   423.000000   518.000000   0.500000\n",
      "std     3.02765   955.627194  1070.926909   0.527046\n",
      "min     1.00000    10.000000    10.000000   0.000000\n",
      "25%     3.25000    20.000000    20.000000   0.000000\n",
      "50%     5.50000    30.000000    20.000000   0.500000\n",
      "75%     7.75000    50.000000    45.000000   1.000000\n",
      "max    10.00000  3000.000000  3000.000000   1.000000\n"
     ]
    }
   ],
   "source": [
    "print(\"\\nData Describe (Numeric Columns):\")\n",
    "print(df.describe())"
   ]
  },
  {
   "cell_type": "markdown",
   "metadata": {},
   "source": [
    "CHECK DUPLICATION"
   ]
  },
  {
   "cell_type": "code",
   "execution_count": 300,
   "metadata": {},
   "outputs": [
    {
     "name": "stdout",
     "output_type": "stream",
     "text": [
      "\n",
      "No duplicate houseId entries found.\n"
     ]
    },
    {
     "name": "stderr",
     "output_type": "stream",
     "text": [
      "<>:3: SyntaxWarning: invalid escape sequence '\\T'\n",
      "<>:3: SyntaxWarning: invalid escape sequence '\\T'\n",
      "C:\\Users\\User\\AppData\\Local\\Temp\\ipykernel_11892\\2011155508.py:3: SyntaxWarning: invalid escape sequence '\\T'\n",
      "  print(\"\\There are duplicate houseId entries:\")\n"
     ]
    }
   ],
   "source": [
    "duplicate_ids = df[df.duplicated(subset=['houseId'], keep=False)]\n",
    "if not duplicate_ids.empty:\n",
    "    print(\"\\There are duplicate houseId entries:\")\n",
    "    print(duplicate_ids)\n",
    "else:\n",
    "    print(\"\\nNo duplicate houseId entries found.\")"
   ]
  },
  {
   "cell_type": "markdown",
   "metadata": {},
   "source": [
    "CHECK UNIQUE VALUE IN CATEGORICAL"
   ]
  },
  {
   "cell_type": "code",
   "execution_count": 301,
   "metadata": {},
   "outputs": [
    {
     "name": "stdout",
     "output_type": "stream",
     "text": [
      "\n",
      "Unique lengthUnit values: ['meter' 'centimeter']\n",
      "Unique widthUnit values: ['meter' 'centimeter']\n",
      "Unique notes values: ['TRAINING DATA' 'TEST DATA' 'VALIDATION DATA']\n"
     ]
    }
   ],
   "source": [
    "print(\"\\nUnique lengthUnit values:\", df['lengthUnit'].unique())\n",
    "print(\"Unique widthUnit values:\", df['widthUnit'].unique())\n",
    "print(\"Unique notes values:\", df['notes'].unique())"
   ]
  },
  {
   "cell_type": "markdown",
   "metadata": {},
   "source": [
    "EXAMINE DISTRIBUTION AND VALUE FORMAT"
   ]
  },
  {
   "cell_type": "code",
   "execution_count": 302,
   "metadata": {},
   "outputs": [
    {
     "name": "stdout",
     "output_type": "stream",
     "text": [
      "\n",
      "Value counts of isCarport:\n",
      "isCarport\n",
      "1    5\n",
      "0    5\n",
      "Name: count, dtype: int64\n",
      "\n",
      "Sample of price column:\n",
      "0     IDR 5 Billion\n",
      "1    IDR 18 Billion\n",
      "2    IDR 13 Billion\n",
      "3     IDR 6 Billion\n",
      "4    IDR 21 Billion\n",
      "Name: price, dtype: object\n"
     ]
    }
   ],
   "source": [
    "print(\"\\nValue counts of isCarport:\")\n",
    "print(df['isCarport'].value_counts())\n",
    "\n",
    "print(\"\\nSample of price column:\")\n",
    "print(df['price'].head())"
   ]
  },
  {
   "cell_type": "markdown",
   "metadata": {},
   "source": [
    "DATA CLEANSING"
   ]
  },
  {
   "cell_type": "code",
   "execution_count": 303,
   "metadata": {},
   "outputs": [],
   "source": [
    "def convert_to_meters(value, unit):\n",
    "    if unit.lower() == 'meter':\n",
    "        return value\n",
    "    elif unit.lower() == 'centimeter':\n",
    "        return value / 100.0\n",
    "    else:\n",
    "        raise ValueError(f\"Unknown unit: {unit}\")\n",
    "\n",
    "df['length'] = df.apply(lambda row: convert_to_meters(row['length'], row['lengthUnit']), axis=1)\n",
    "df['width'] = df.apply(lambda row: convert_to_meters(row['width'], row['widthUnit']), axis=1)\n",
    "df.drop(['lengthUnit', 'widthUnit'], axis=1, inplace=True)"
   ]
  },
  {
   "cell_type": "code",
   "execution_count": 304,
   "metadata": {},
   "outputs": [
    {
     "name": "stdout",
     "output_type": "stream",
     "text": [
      "0    20.0\n",
      "1    40.0\n",
      "2    30.0\n",
      "3    10.0\n",
      "4    20.0\n",
      "5    50.0\n",
      "6    20.0\n",
      "7    50.0\n",
      "8    20.0\n",
      "9    10.0\n",
      "Name: length, dtype: float64\n",
      "0    10.0\n",
      "1    20.0\n",
      "2    20.0\n",
      "3    30.0\n",
      "4    50.0\n",
      "5    10.0\n",
      "6    20.0\n",
      "7    20.0\n",
      "8    30.0\n",
      "9    20.0\n",
      "Name: width, dtype: float64\n"
     ]
    }
   ],
   "source": [
    "print(df['length'])\n",
    "print(df['width'])"
   ]
  },
  {
   "cell_type": "code",
   "execution_count": 305,
   "metadata": {},
   "outputs": [],
   "source": [
    "def convert_price_to_billion(price_str):\n",
    "    clean_str = price_str.replace(\"IDR\", \"\").replace(\"Billion\", \"\").strip()\n",
    "    return float(f\"{clean_str}000000\")\n",
    "\n",
    "df['price'] = df['price'].apply(convert_price_to_billion)\n",
    "\n",
    "df['isCarport'] = df['isCarport'].astype(int)"
   ]
  },
  {
   "cell_type": "code",
   "execution_count": 306,
   "metadata": {},
   "outputs": [
    {
     "name": "stdout",
     "output_type": "stream",
     "text": [
      "0     5000000.0\n",
      "1    18000000.0\n",
      "2    13000000.0\n",
      "3     6000000.0\n",
      "4    21000000.0\n",
      "5    11000000.0\n",
      "6     8000000.0\n",
      "7    15000000.0\n",
      "8    13000000.0\n",
      "9    11000000.0\n",
      "Name: price, dtype: float64\n",
      "0    1\n",
      "1    0\n",
      "2    1\n",
      "3    0\n",
      "4    1\n",
      "5    0\n",
      "6    1\n",
      "7    0\n",
      "8    1\n",
      "9    0\n",
      "Name: isCarport, dtype: int64\n"
     ]
    }
   ],
   "source": [
    "print(df['price'])\n",
    "print(df['isCarport'])"
   ]
  },
  {
   "cell_type": "markdown",
   "metadata": {},
   "source": [
    "QA"
   ]
  },
  {
   "cell_type": "code",
   "execution_count": 307,
   "metadata": {},
   "outputs": [
    {
     "name": "stdout",
     "output_type": "stream",
     "text": [
      "\n",
      "Missing values in critical columns after cleaning:\n",
      "houseId      0\n",
      "length       0\n",
      "width        0\n",
      "isCarport    0\n",
      "price        0\n",
      "dtype: int64\n"
     ]
    }
   ],
   "source": [
    "critical_columns = ['houseId', 'length', 'width', 'isCarport', 'price']\n",
    "missing_data = df[critical_columns].isna().sum()\n",
    "print(\"\\nMissing values in critical columns after cleaning:\")\n",
    "print(missing_data)"
   ]
  },
  {
   "cell_type": "code",
   "execution_count": 308,
   "metadata": {},
   "outputs": [
    {
     "name": "stdout",
     "output_type": "stream",
     "text": [
      "\n",
      "Ranges of key numeric fields:\n",
      "Length range: 10.0 - 50.0\n",
      "Width range: 10.0 - 50.0\n",
      "Price range (in Billion IDR): 5000000.0 - 21000000.0\n"
     ]
    }
   ],
   "source": [
    "print(\"\\nRanges of key numeric fields:\")\n",
    "print(\"Length range:\", df['length'].min(), \"-\", df['length'].max())\n",
    "print(\"Width range:\", df['width'].min(), \"-\", df['width'].max())\n",
    "print(\"Price range (in Billion IDR):\", df['price'].min(), \"-\", df['price'].max())"
   ]
  },
  {
   "cell_type": "code",
   "execution_count": 309,
   "metadata": {},
   "outputs": [
    {
     "name": "stdout",
     "output_type": "stream",
     "text": [
      "\n",
      "isCarport column verified as binary 0/1.\n"
     ]
    }
   ],
   "source": [
    "if all(df['isCarport'].isin([0,1])):\n",
    "    print(\"\\nisCarport column verified as binary 0/1.\")\n",
    "else:\n",
    "    print(\"\\nWarning: isCarport contains values other than 0/1.\")"
   ]
  },
  {
   "cell_type": "code",
   "execution_count": 310,
   "metadata": {},
   "outputs": [
    {
     "name": "stdout",
     "output_type": "stream",
     "text": [
      "\n",
      "Count of TRAINING vs TEST data in notes:\n",
      "notes\n",
      "TRAINING DATA      5\n",
      "VALIDATION DATA    3\n",
      "TEST DATA          2\n",
      "Name: count, dtype: int64\n",
      "\n",
      "Cleaned data preview:\n",
      "   houseId  length  width  isCarport       price          notes\n",
      "0        1    20.0   10.0          1   5000000.0  TRAINING DATA\n",
      "1        2    40.0   20.0          0  18000000.0  TRAINING DATA\n",
      "2        3    30.0   20.0          1  13000000.0  TRAINING DATA\n",
      "3        4    10.0   30.0          0   6000000.0  TRAINING DATA\n",
      "4        5    20.0   50.0          1  21000000.0  TRAINING DATA\n"
     ]
    }
   ],
   "source": [
    "print(\"\\nCount of TRAINING vs TEST data in notes:\")\n",
    "print(df['notes'].value_counts())\n",
    "\n",
    "print(\"\\nCleaned data preview:\")\n",
    "print(df.head())"
   ]
  },
  {
   "cell_type": "markdown",
   "metadata": {},
   "source": [
    "FEATURE ENGINEERING"
   ]
  },
  {
   "cell_type": "code",
   "execution_count": 311,
   "metadata": {},
   "outputs": [
    {
     "name": "stdout",
     "output_type": "stream",
     "text": [
      "   houseId  length  width    area       price  price_per_sqm\n",
      "0        1    20.0   10.0   200.0   5000000.0   25000.000000\n",
      "1        2    40.0   20.0   800.0  18000000.0   22500.000000\n",
      "2        3    30.0   20.0   600.0  13000000.0   21666.666667\n",
      "3        4    10.0   30.0   300.0   6000000.0   20000.000000\n",
      "4        5    20.0   50.0  1000.0  21000000.0   21000.000000\n"
     ]
    }
   ],
   "source": [
    "df['area'] = df['length'] * df['width']\n",
    "\n",
    "df['price_per_sqm'] = (df['price']) / df['area']\n",
    "\n",
    "print(df[['houseId', 'length', 'width', 'area', 'price', 'price_per_sqm']].head())"
   ]
  },
  {
   "cell_type": "code",
   "execution_count": 312,
   "metadata": {},
   "outputs": [
    {
     "name": "stdout",
     "output_type": "stream",
     "text": [
      "0    2.000000\n",
      "1    2.000000\n",
      "2    1.500000\n",
      "3    0.333333\n",
      "4    0.400000\n",
      "5    5.000000\n",
      "6    1.000000\n",
      "7    2.500000\n",
      "8    0.666667\n",
      "9    0.500000\n",
      "Name: aspect_ratio, dtype: float64\n"
     ]
    }
   ],
   "source": [
    "df['aspect_ratio'] = df['length'] / df['width']\n",
    "print(df['aspect_ratio'])"
   ]
  },
  {
   "cell_type": "code",
   "execution_count": 313,
   "metadata": {},
   "outputs": [
    {
     "data": {
      "text/plain": [
       "0     Small\n",
       "1    Medium\n",
       "2    Medium\n",
       "3     Small\n",
       "4     Large\n",
       "5    Medium\n",
       "6     Small\n",
       "7     Large\n",
       "8    Medium\n",
       "9     Small\n",
       "Name: size_category, dtype: category\n",
       "Categories (3, object): ['Large', 'Medium', 'Small']"
      ]
     },
     "execution_count": 313,
     "metadata": {},
     "output_type": "execute_result"
    }
   ],
   "source": [
    "def categorize_size(area):\n",
    "    if area < 500: \n",
    "        return \"Small\"\n",
    "    elif area < 1000:\n",
    "        return \"Medium\"\n",
    "    else:\n",
    "        return \"Large\"\n",
    "\n",
    "df['size_category'] = df['area'].apply(categorize_size)\n",
    "df['size_category'] = df['size_category'].astype('category')\n",
    "df['size_category']"
   ]
  },
  {
   "cell_type": "code",
   "execution_count": 314,
   "metadata": {},
   "outputs": [
    {
     "data": {
      "text/plain": [
       "0     Budget\n",
       "1    Premium\n",
       "2        Mid\n",
       "3     Budget\n",
       "4    Premium\n",
       "5        Mid\n",
       "6     Budget\n",
       "7        Mid\n",
       "8        Mid\n",
       "9        Mid\n",
       "Name: price_segment, dtype: category\n",
       "Categories (3, object): ['Budget', 'Mid', 'Premium']"
      ]
     },
     "execution_count": 314,
     "metadata": {},
     "output_type": "execute_result"
    }
   ],
   "source": [
    "def categorize_price(price_billion):\n",
    "    if price_billion <= 10000000:\n",
    "        return \"Budget\"\n",
    "    elif price_billion <= 15000000:\n",
    "        return \"Mid\"\n",
    "    else:\n",
    "        return \"Premium\"\n",
    "\n",
    "df['price_segment'] = df['price'].apply(categorize_price)\n",
    "df['price_segment'] = df['price_segment'].astype('category')\n",
    "df['price_segment']"
   ]
  },
  {
   "cell_type": "markdown",
   "metadata": {},
   "source": [
    "New Feature Examination"
   ]
  },
  {
   "cell_type": "code",
   "execution_count": 315,
   "metadata": {},
   "outputs": [
    {
     "name": "stdout",
     "output_type": "stream",
     "text": [
      "\n",
      "Area Feature Overview:\n",
      "Mean area: 560.0\n",
      "Median area: 550.0\n",
      "Min area: 200.0\n",
      "Max area: 1000.0\n",
      "\n",
      "Aspect Ratio Overview:\n",
      "Mean aspect_ratio: 1.59\n",
      "Median aspect_ratio: 1.25\n",
      "Min aspect_ratio: 0.3333333333333333\n",
      "Max aspect_ratio: 5.0\n",
      "\n",
      "Price per Square Meter Overview (IDR):\n",
      "Mean price_per_sqm: 24383.333333333336\n",
      "Median price_per_sqm: 21666.666666666668\n",
      "Min price_per_sqm: 15000.0\n",
      "Max price_per_sqm: 55000.0\n",
      "\n",
      "Size Category Counts:\n",
      "size_category\n",
      "Medium    4\n",
      "Small     4\n",
      "Large     2\n",
      "Name: count, dtype: int64\n",
      "\n",
      "Price Segment Counts:\n",
      "price_segment\n",
      "Mid        5\n",
      "Budget     3\n",
      "Premium    2\n",
      "Name: count, dtype: int64\n",
      "\n",
      "Correlation with Price:\n",
      "price            1.000000\n",
      "area             0.876323\n",
      "aspect_ratio    -0.028139\n",
      "price_per_sqm   -0.127109\n",
      "Name: price, dtype: float64\n"
     ]
    }
   ],
   "source": [
    "print(\"\\nArea Feature Overview:\")\n",
    "print(\"Mean area:\", df['area'].mean())\n",
    "print(\"Median area:\", df['area'].median())\n",
    "print(\"Min area:\", df['area'].min())\n",
    "print(\"Max area:\", df['area'].max())\n",
    "\n",
    "print(\"\\nAspect Ratio Overview:\")\n",
    "print(\"Mean aspect_ratio:\", df['aspect_ratio'].mean())\n",
    "print(\"Median aspect_ratio:\", df['aspect_ratio'].median())\n",
    "print(\"Min aspect_ratio:\", df['aspect_ratio'].min())\n",
    "print(\"Max aspect_ratio:\", df['aspect_ratio'].max())\n",
    "\n",
    "print(\"\\nPrice per Square Meter Overview (IDR):\")\n",
    "print(\"Mean price_per_sqm:\", df['price_per_sqm'].mean())\n",
    "print(\"Median price_per_sqm:\", df['price_per_sqm'].median())\n",
    "print(\"Min price_per_sqm:\", df['price_per_sqm'].min())\n",
    "print(\"Max price_per_sqm:\", df['price_per_sqm'].max())\n",
    "\n",
    "print(\"\\nSize Category Counts:\")\n",
    "print(df['size_category'].value_counts())\n",
    "\n",
    "print(\"\\nPrice Segment Counts:\")\n",
    "print(df['price_segment'].value_counts())\n",
    "\n",
    "print(\"\\nCorrelation with Price:\")\n",
    "corr_matrix = df[['price', 'area', 'aspect_ratio', 'price_per_sqm']].corr()\n",
    "print(corr_matrix['price'].sort_values(ascending=False))"
   ]
  },
  {
   "cell_type": "markdown",
   "metadata": {},
   "source": [
    "Descriptive Statics"
   ]
  },
  {
   "cell_type": "code",
   "execution_count": 316,
   "metadata": {},
   "outputs": [
    {
     "name": "stdout",
     "output_type": "stream",
     "text": [
      "\n",
      "Descriptive Statistics for Numeric Columns:\n",
      "        houseId     length      width  isCarport         price         area  \\\n",
      "count  10.00000  10.000000  10.000000  10.000000  1.000000e+01    10.000000   \n",
      "mean    5.50000  27.000000  23.000000   0.500000  1.210000e+07   560.000000   \n",
      "std     3.02765  14.944341  11.595018   0.527046  5.065131e+06   298.886824   \n",
      "min     1.00000  10.000000  10.000000   0.000000  5.000000e+06   200.000000   \n",
      "25%     3.25000  20.000000  20.000000   0.000000  8.750000e+06   325.000000   \n",
      "50%     5.50000  20.000000  20.000000   0.500000  1.200000e+07   550.000000   \n",
      "75%     7.75000  37.500000  27.500000   1.000000  1.450000e+07   750.000000   \n",
      "max    10.00000  50.000000  50.000000   1.000000  2.100000e+07  1000.000000   \n",
      "\n",
      "       price_per_sqm  aspect_ratio  \n",
      "count      10.000000     10.000000  \n",
      "mean    24383.333333      1.590000  \n",
      "std     11053.754739      1.421445  \n",
      "min     15000.000000      0.333333  \n",
      "25%     20250.000000      0.541667  \n",
      "50%     21666.666667      1.250000  \n",
      "75%     22375.000000      2.000000  \n",
      "max     55000.000000      5.000000  \n"
     ]
    }
   ],
   "source": [
    "print(\"\\nDescriptive Statistics for Numeric Columns:\")\n",
    "print(df.describe())"
   ]
  },
  {
   "cell_type": "code",
   "execution_count": 317,
   "metadata": {},
   "outputs": [
    {
     "name": "stdout",
     "output_type": "stream",
     "text": [
      "\n",
      "Skewness of Numeric Features:\n",
      "length           0.639188\n",
      "width            1.411264\n",
      "area             0.359543\n",
      "price            0.298964\n",
      "price_per_sqm    2.838847\n",
      "aspect_ratio     1.672506\n",
      "dtype: float64\n",
      "\n",
      "Kurtosis of Numeric Features:\n",
      "length          -0.991949\n",
      "width            2.830310\n",
      "area            -1.136349\n",
      "price           -0.436737\n",
      "price_per_sqm    8.634608\n",
      "aspect_ratio     3.290423\n",
      "dtype: float64\n",
      "\n",
      "Selected Quantiles for Numeric Features:\n",
      "      length  width    area       price  price_per_sqm  aspect_ratio\n",
      "0.01    10.0   10.0   200.0   5090000.0        15450.0      0.339333\n",
      "0.05    10.0   10.0   200.0   5450000.0        17250.0      0.363333\n",
      "0.25    20.0   20.0   325.0   8750000.0        20250.0      0.541667\n",
      "0.75    37.5   27.5   750.0  14500000.0        22375.0      2.000000\n",
      "0.95    50.0   41.0  1000.0  19650000.0        41500.0      3.875000\n",
      "0.99    50.0   48.2  1000.0  20730000.0        52300.0      4.775000\n",
      "\n",
      "Descriptive Statistics by isCarport:\n",
      "          length                                                width        \\\n",
      "           count  mean        std   min   25%   50%   75%   max count  mean   \n",
      "isCarport                                                                     \n",
      "0            5.0  32.0  20.493902  10.0  10.0  40.0  50.0  50.0   5.0  20.0   \n",
      "1            5.0  22.0   4.472136  20.0  20.0  20.0  20.0  30.0   5.0  26.0   \n",
      "\n",
      "           ... price_per_sqm          aspect_ratio                      \\\n",
      "           ...           75%      max        count      mean       std   \n",
      "isCarport  ...                                                           \n",
      "0          ...  22500.000000  55000.0          5.0  2.066667  1.887826   \n",
      "1          ...  21666.666667  25000.0          5.0  1.113333  0.643601   \n",
      "\n",
      "                                              \n",
      "                min       25%  50%  75%  max  \n",
      "isCarport                                     \n",
      "0          0.333333  0.500000  2.0  2.5  5.0  \n",
      "1          0.400000  0.666667  1.0  1.5  2.0  \n",
      "\n",
      "[2 rows x 48 columns]\n",
      "\n",
      "Descriptive Statistics by size_category:\n",
      "              length                                                width  \\\n",
      "               count  mean        std   min   25%   50%   75%   max count   \n",
      "size_category                                                               \n",
      "Large            2.0  35.0  21.213203  20.0  27.5  35.0  42.5  50.0   2.0   \n",
      "Medium           4.0  35.0  12.909944  20.0  27.5  35.0  42.5  50.0   4.0   \n",
      "Small            4.0  15.0   5.773503  10.0  10.0  15.0  20.0  20.0   4.0   \n",
      "\n",
      "                     ... price_per_sqm          aspect_ratio            \\\n",
      "               mean  ...           75%      max        count      mean   \n",
      "size_category        ...                                                 \n",
      "Large          35.0  ...       19500.0  21000.0          2.0  1.450000   \n",
      "Medium         20.0  ...       22125.0  22500.0          4.0  2.291667   \n",
      "Small          20.0  ...       32500.0  55000.0          4.0  0.958333   \n",
      "\n",
      "                                                               \n",
      "                    std       min       25%   50%    75%  max  \n",
      "size_category                                                  \n",
      "Large          1.484924  0.400000  0.925000  1.45  1.975  2.5  \n",
      "Medium         1.887459  0.666667  1.291667  1.75  2.750  5.0  \n",
      "Small          0.750000  0.333333  0.458333  0.75  1.250  2.0  \n",
      "\n",
      "[3 rows x 48 columns]\n",
      "\n",
      "Cross-Tabulation of size_category and price_segment:\n",
      "price_segment  Budget  Mid  Premium\n",
      "size_category                      \n",
      "Large               0    1        1\n",
      "Medium              0    3        1\n",
      "Small               3    1        0\n",
      "\n",
      "Cross-Tabulation of isCarport and price_segment:\n",
      "price_segment  Budget  Mid  Premium\n",
      "isCarport                          \n",
      "0                   1    3        1\n",
      "1                   2    2        1\n",
      "\n",
      "Coefficient of Variation for Numeric Features:\n",
      "length           0.553494\n",
      "width            0.504131\n",
      "area             0.533726\n",
      "price            0.418606\n",
      "price_per_sqm    0.453332\n",
      "aspect_ratio     0.893991\n",
      "dtype: float64\n",
      "\n",
      "Full Correlation Matrix of Numeric Features:\n",
      "                 length     width      area     price  price_per_sqm  \\\n",
      "length         1.000000 -0.391146  0.567164  0.371373      -0.457495   \n",
      "width         -0.391146  1.000000  0.487330  0.561891      -0.134227   \n",
      "area           0.567164  0.487330  1.000000  0.876323      -0.522851   \n",
      "price          0.371373  0.561891  0.876323  1.000000      -0.127109   \n",
      "price_per_sqm -0.457495 -0.134227 -0.522851 -0.127109       1.000000   \n",
      "aspect_ratio   0.838812 -0.645161  0.103566 -0.028139      -0.252342   \n",
      "\n",
      "               aspect_ratio  \n",
      "length             0.838812  \n",
      "width             -0.645161  \n",
      "area               0.103566  \n",
      "price             -0.028139  \n",
      "price_per_sqm     -0.252342  \n",
      "aspect_ratio       1.000000  \n",
      "\n",
      "Count of Potential Outliers per Feature (3-STD Rule):\n",
      "{'length': 0, 'width': 0, 'area': 0, 'price': 0, 'price_per_sqm': 0, 'aspect_ratio': 0}\n"
     ]
    },
    {
     "name": "stderr",
     "output_type": "stream",
     "text": [
      "C:\\Users\\User\\AppData\\Local\\Temp\\ipykernel_11892\\942228612.py:16: FutureWarning: The default of observed=False is deprecated and will be changed to True in a future version of pandas. Pass observed=False to retain current behavior or observed=True to adopt the future default and silence this warning.\n",
      "  print(df.groupby('size_category')[numeric_features].describe())\n"
     ]
    }
   ],
   "source": [
    "numeric_features = ['length', 'width', 'area', 'price', 'price_per_sqm', 'aspect_ratio']\n",
    "print(\"\\nSkewness of Numeric Features:\")\n",
    "print(df[numeric_features].skew())\n",
    "\n",
    "print(\"\\nKurtosis of Numeric Features:\")\n",
    "print(df[numeric_features].kurt())\n",
    "\n",
    "quantiles = [0.01, 0.05, 0.25, 0.75, 0.95, 0.99]\n",
    "print(\"\\nSelected Quantiles for Numeric Features:\")\n",
    "print(df[numeric_features].quantile(quantiles))\n",
    "\n",
    "print(\"\\nDescriptive Statistics by isCarport:\")\n",
    "print(df.groupby('isCarport')[numeric_features].describe())\n",
    "\n",
    "print(\"\\nDescriptive Statistics by size_category:\")\n",
    "print(df.groupby('size_category')[numeric_features].describe())\n",
    "\n",
    "print(\"\\nCross-Tabulation of size_category and price_segment:\")\n",
    "print(pd.crosstab(df['size_category'], df['price_segment']))\n",
    "\n",
    "print(\"\\nCross-Tabulation of isCarport and price_segment:\")\n",
    "print(pd.crosstab(df['isCarport'], df['price_segment']))\n",
    "\n",
    "cv = df[numeric_features].std() / df[numeric_features].mean()\n",
    "print(\"\\nCoefficient of Variation for Numeric Features:\")\n",
    "print(cv)\n",
    "\n",
    "print(\"\\nFull Correlation Matrix of Numeric Features:\")\n",
    "print(df[numeric_features].corr())\n",
    "\n",
    "outlier_threshold = 3\n",
    "outlier_counts = {}\n",
    "for feature in numeric_features:\n",
    "    mean_val = df[feature].mean()\n",
    "    std_val = df[feature].std()\n",
    "    outliers = df[(df[feature] < mean_val - outlier_threshold*std_val) | \n",
    "                  (df[feature] > mean_val + outlier_threshold*std_val)]\n",
    "    outlier_counts[feature] = len(outliers)\n",
    "\n",
    "print(\"\\nCount of Potential Outliers per Feature (3-STD Rule):\")\n",
    "print(outlier_counts)\n"
   ]
  },
  {
   "cell_type": "markdown",
   "metadata": {},
   "source": [
    "Visualization"
   ]
  },
  {
   "cell_type": "code",
   "execution_count": 318,
   "metadata": {},
   "outputs": [],
   "source": [
    "sns.set_style('whitegrid')"
   ]
  },
  {
   "cell_type": "code",
   "execution_count": 319,
   "metadata": {},
   "outputs": [
    {
     "data": {
      "image/png": "[encoded data removed]",
      "text/plain": [
       "<Figure size 600x400 with 1 Axes>"
      ]
     },
     "metadata": {},
     "output_type": "display_data"
    }
   ],
   "source": [
    "plt.figure(figsize=(6,4))\n",
    "sns.scatterplot(data=df, x='area', y='price', hue='isCarport')\n",
    "plt.title('Area vs. Price by Carport Availability')\n",
    "plt.xlabel('Area (sqm)')\n",
    "plt.ylabel('Price (Billion IDR)')\n",
    "plt.show()\n"
   ]
  },
  {
   "cell_type": "code",
   "execution_count": 320,
   "metadata": {},
   "outputs": [
    {
     "data": {
      "image/png": "[encoded data removed]",
      "text/plain": [
       "<Figure size 600x400 with 1 Axes>"
      ]
     },
     "metadata": {},
     "output_type": "display_data"
    },
    {
     "data": {
      "image/png": "[encoded data removed]",
      "text/plain": [
       "<Figure size 600x400 with 1 Axes>"
      ]
     },
     "metadata": {},
     "output_type": "display_data"
    },
    {
     "data": {
      "image/png": "[encoded data removed]",
      "text/plain": [
       "<Figure size 600x500 with 2 Axes>"
      ]
     },
     "metadata": {},
     "output_type": "display_data"
    }
   ],
   "source": [
    "plt.figure(figsize=(6,4))\n",
    "sns.boxplot(data=df, x='size_category', y='price')\n",
    "plt.title('Price Distribution by Size Category')\n",
    "plt.xlabel('Size Category')\n",
    "plt.ylabel('Price (Billion IDR)')\n",
    "plt.show()\n",
    "\n",
    "plt.figure(figsize=(6,4))\n",
    "sns.countplot(data=df, x='size_category')\n",
    "plt.title('Count of Properties by Size Category')\n",
    "plt.xlabel('Size Category')\n",
    "plt.ylabel('Count')\n",
    "plt.show()\n",
    "\n",
    "corr = df[['area', 'price', 'price_per_sqm', 'aspect_ratio', 'isCarport']].corr()\n",
    "plt.figure(figsize=(6,5))\n",
    "sns.heatmap(corr, annot=True, cmap='Blues', fmt=\".2f\", square=True)\n",
    "plt.title('Correlation Heatmap')\n",
    "plt.show()"
   ]
  },
  {
   "cell_type": "code",
   "execution_count": 321,
   "metadata": {},
   "outputs": [
    {
     "data": {
      "text/html": [
       "<div>\n",
       "<style scoped>\n",
       "    .dataframe tbody tr th:only-of-type {\n",
       "        vertical-align: middle;\n",
       "    }\n",
       "\n",
       "    .dataframe tbody tr th {\n",
       "        vertical-align: top;\n",
       "    }\n",
       "\n",
       "    .dataframe thead th {\n",
       "        text-align: right;\n",
       "    }\n",
       "</style>\n",
       "<table border=\"1\" class=\"dataframe\">\n",
       "  <thead>\n",
       "    <tr style=\"text-align: right;\">\n",
       "      <th></th>\n",
       "      <th>houseId</th>\n",
       "      <th>length</th>\n",
       "      <th>width</th>\n",
       "      <th>isCarport</th>\n",
       "      <th>price</th>\n",
       "      <th>notes</th>\n",
       "      <th>area</th>\n",
       "      <th>price_per_sqm</th>\n",
       "      <th>aspect_ratio</th>\n",
       "      <th>size_category</th>\n",
       "      <th>price_segment</th>\n",
       "    </tr>\n",
       "  </thead>\n",
       "  <tbody>\n",
       "    <tr>\n",
       "      <th>0</th>\n",
       "      <td>1</td>\n",
       "      <td>20.0</td>\n",
       "      <td>10.0</td>\n",
       "      <td>1</td>\n",
       "      <td>5000000.0</td>\n",
       "      <td>TRAINING DATA</td>\n",
       "      <td>200.0</td>\n",
       "      <td>25000.000000</td>\n",
       "      <td>2.000000</td>\n",
       "      <td>Small</td>\n",
       "      <td>Budget</td>\n",
       "    </tr>\n",
       "    <tr>\n",
       "      <th>1</th>\n",
       "      <td>2</td>\n",
       "      <td>40.0</td>\n",
       "      <td>20.0</td>\n",
       "      <td>0</td>\n",
       "      <td>18000000.0</td>\n",
       "      <td>TRAINING DATA</td>\n",
       "      <td>800.0</td>\n",
       "      <td>22500.000000</td>\n",
       "      <td>2.000000</td>\n",
       "      <td>Medium</td>\n",
       "      <td>Premium</td>\n",
       "    </tr>\n",
       "    <tr>\n",
       "      <th>2</th>\n",
       "      <td>3</td>\n",
       "      <td>30.0</td>\n",
       "      <td>20.0</td>\n",
       "      <td>1</td>\n",
       "      <td>13000000.0</td>\n",
       "      <td>TRAINING DATA</td>\n",
       "      <td>600.0</td>\n",
       "      <td>21666.666667</td>\n",
       "      <td>1.500000</td>\n",
       "      <td>Medium</td>\n",
       "      <td>Mid</td>\n",
       "    </tr>\n",
       "    <tr>\n",
       "      <th>3</th>\n",
       "      <td>4</td>\n",
       "      <td>10.0</td>\n",
       "      <td>30.0</td>\n",
       "      <td>0</td>\n",
       "      <td>6000000.0</td>\n",
       "      <td>TRAINING DATA</td>\n",
       "      <td>300.0</td>\n",
       "      <td>20000.000000</td>\n",
       "      <td>0.333333</td>\n",
       "      <td>Small</td>\n",
       "      <td>Budget</td>\n",
       "    </tr>\n",
       "    <tr>\n",
       "      <th>4</th>\n",
       "      <td>5</td>\n",
       "      <td>20.0</td>\n",
       "      <td>50.0</td>\n",
       "      <td>1</td>\n",
       "      <td>21000000.0</td>\n",
       "      <td>TRAINING DATA</td>\n",
       "      <td>1000.0</td>\n",
       "      <td>21000.000000</td>\n",
       "      <td>0.400000</td>\n",
       "      <td>Large</td>\n",
       "      <td>Premium</td>\n",
       "    </tr>\n",
       "    <tr>\n",
       "      <th>5</th>\n",
       "      <td>6</td>\n",
       "      <td>50.0</td>\n",
       "      <td>10.0</td>\n",
       "      <td>0</td>\n",
       "      <td>11000000.0</td>\n",
       "      <td>TEST DATA</td>\n",
       "      <td>500.0</td>\n",
       "      <td>22000.000000</td>\n",
       "      <td>5.000000</td>\n",
       "      <td>Medium</td>\n",
       "      <td>Mid</td>\n",
       "    </tr>\n",
       "    <tr>\n",
       "      <th>6</th>\n",
       "      <td>7</td>\n",
       "      <td>20.0</td>\n",
       "      <td>20.0</td>\n",
       "      <td>1</td>\n",
       "      <td>8000000.0</td>\n",
       "      <td>TEST DATA</td>\n",
       "      <td>400.0</td>\n",
       "      <td>20000.000000</td>\n",
       "      <td>1.000000</td>\n",
       "      <td>Small</td>\n",
       "      <td>Budget</td>\n",
       "    </tr>\n",
       "    <tr>\n",
       "      <th>7</th>\n",
       "      <td>8</td>\n",
       "      <td>50.0</td>\n",
       "      <td>20.0</td>\n",
       "      <td>0</td>\n",
       "      <td>15000000.0</td>\n",
       "      <td>VALIDATION DATA</td>\n",
       "      <td>1000.0</td>\n",
       "      <td>15000.000000</td>\n",
       "      <td>2.500000</td>\n",
       "      <td>Large</td>\n",
       "      <td>Mid</td>\n",
       "    </tr>\n",
       "    <tr>\n",
       "      <th>8</th>\n",
       "      <td>9</td>\n",
       "      <td>20.0</td>\n",
       "      <td>30.0</td>\n",
       "      <td>1</td>\n",
       "      <td>13000000.0</td>\n",
       "      <td>VALIDATION DATA</td>\n",
       "      <td>600.0</td>\n",
       "      <td>21666.666667</td>\n",
       "      <td>0.666667</td>\n",
       "      <td>Medium</td>\n",
       "      <td>Mid</td>\n",
       "    </tr>\n",
       "    <tr>\n",
       "      <th>9</th>\n",
       "      <td>10</td>\n",
       "      <td>10.0</td>\n",
       "      <td>20.0</td>\n",
       "      <td>0</td>\n",
       "      <td>11000000.0</td>\n",
       "      <td>VALIDATION DATA</td>\n",
       "      <td>200.0</td>\n",
       "      <td>55000.000000</td>\n",
       "      <td>0.500000</td>\n",
       "      <td>Small</td>\n",
       "      <td>Mid</td>\n",
       "    </tr>\n",
       "  </tbody>\n",
       "</table>\n",
       "</div>"
      ],
      "text/plain": [
       "   houseId  length  width  isCarport       price            notes    area  \\\n",
       "0        1    20.0   10.0          1   5000000.0    TRAINING DATA   200.0   \n",
       "1        2    40.0   20.0          0  18000000.0    TRAINING DATA   800.0   \n",
       "2        3    30.0   20.0          1  13000000.0    TRAINING DATA   600.0   \n",
       "3        4    10.0   30.0          0   6000000.0    TRAINING DATA   300.0   \n",
       "4        5    20.0   50.0          1  21000000.0    TRAINING DATA  1000.0   \n",
       "5        6    50.0   10.0          0  11000000.0        TEST DATA   500.0   \n",
       "6        7    20.0   20.0          1   8000000.0        TEST DATA   400.0   \n",
       "7        8    50.0   20.0          0  15000000.0  VALIDATION DATA  1000.0   \n",
       "8        9    20.0   30.0          1  13000000.0  VALIDATION DATA   600.0   \n",
       "9       10    10.0   20.0          0  11000000.0  VALIDATION DATA   200.0   \n",
       "\n",
       "   price_per_sqm  aspect_ratio size_category price_segment  \n",
       "0   25000.000000      2.000000         Small        Budget  \n",
       "1   22500.000000      2.000000        Medium       Premium  \n",
       "2   21666.666667      1.500000        Medium           Mid  \n",
       "3   20000.000000      0.333333         Small        Budget  \n",
       "4   21000.000000      0.400000         Large       Premium  \n",
       "5   22000.000000      5.000000        Medium           Mid  \n",
       "6   20000.000000      1.000000         Small        Budget  \n",
       "7   15000.000000      2.500000         Large           Mid  \n",
       "8   21666.666667      0.666667        Medium           Mid  \n",
       "9   55000.000000      0.500000         Small           Mid  "
      ]
     },
     "metadata": {},
     "output_type": "display_data"
    }
   ],
   "source": [
    "display(df)"
   ]
  },
  {
   "cell_type": "code",
   "execution_count": 324,
   "metadata": {},
   "outputs": [
    {
     "name": "stdout",
     "output_type": "stream",
     "text": [
      "Training Predictions: [ 5. 18. 13.  6. 21.]\n",
      "Test Predictions: [13.  5.]\n",
      "Validation Predictions: [13.  5.  6.]\n",
      "\n",
      "Training Metrics:\n",
      "  MSE: 0.0\n",
      "\n",
      "Test Metrics:\n",
      "  MSE: 6.5\n",
      "\n",
      "Validation Metrics:\n",
      "  MSE: 31.0\n"
     ]
    }
   ],
   "source": [
    "import pandas as pd\n",
    "import numpy as np\n",
    "import re\n",
    "\n",
    "data = {\n",
    "    'houseId': [1, 2, 3, 4, 5, 6, 7, 8, 9, 10],\n",
    "    'length': [20, 40, 3000, 1000, 20, 50, 20, 50, 20, 10],\n",
    "    'lengthUnit': ['meter', 'meter', 'centimeter', 'centimeter', 'meter', 'meter', 'meter', 'meter', 'meter', 'meter'],\n",
    "    'width': [10, 20, 2000, 3000, 50, 10, 20, 20, 30, 20],\n",
    "    'widthUnit': ['meter', 'meter', 'centimeter', 'centimeter', 'meter', 'meter', 'meter', 'meter', 'meter', 'meter'],\n",
    "    'isCarport': [1, 0, 1, 0, 1, 0, 1, 0, 1, 0],\n",
    "    'price': ['5 Billion', '18 Billion', '13 Billion', '6 Billion', '21 Billion', '11 Billion', '8 Billion',\n",
    "              'IDR 15 Billion', 'IDR 13 Billion', 'IDR 11 Billion'],\n",
    "    'notes': ['TRAINING DATA', 'TRAINING DATA', 'TRAINING DATA', 'TRAINING DATA',\n",
    "              'TRAINING DATA', 'TEST DATA', 'TEST DATA',\n",
    "              'VALIDATION DATA', 'VALIDATION DATA', 'VALIDATION DATA']\n",
    "}\n",
    "\n",
    "df = pd.DataFrame(data)\n",
    "\n",
    "def convert_price(p_str):\n",
    "    match = re.search(r'(\\d+(\\.\\d+)?)', p_str)\n",
    "    if match:\n",
    "        return float(match.group(1))\n",
    "    else:\n",
    "        raise ValueError(f\"Cannot parse price from '{p_str}'\")\n",
    "\n",
    "df['price_val'] = df['price'].apply(convert_price)\n",
    "\n",
    "def to_meters(value, unit):\n",
    "    if unit == 'meter':\n",
    "        return value\n",
    "    elif unit == 'centimeter':\n",
    "        return value / 100.0\n",
    "    else:\n",
    "        raise ValueError(f\"Unknown unit: {unit}\")\n",
    "\n",
    "df['length_m'] = [to_meters(l, u) for l, u in zip(df['length'], df['lengthUnit'])]\n",
    "df['width_m'] = [to_meters(w, u) for w, u in zip(df['width'], df['widthUnit'])]\n",
    "\n",
    "def size_category(price):\n",
    "    if price <= 10:\n",
    "        return 'budget'\n",
    "    elif price <= 15:\n",
    "        return 'mid'\n",
    "    else:\n",
    "        return 'large'\n",
    "\n",
    "df['size_category'] = df['price_val'].apply(size_category)\n",
    "\n",
    "train_df = df[df['notes'] == 'TRAINING DATA'].copy()\n",
    "test_df = df[df['notes'] == 'TEST DATA'].copy()\n",
    "validation_df = df[df['notes'] == 'VALIDATION DATA'].copy()\n",
    "\n",
    "for dataset in [train_df, test_df, validation_df]:\n",
    "    dataset['mid'] = (dataset['size_category'] == 'mid').astype(int)\n",
    "    dataset['large'] = (dataset['size_category'] == 'large').astype(int)\n",
    "\n",
    "feature_columns = ['length_m', 'width_m', 'isCarport', 'mid', 'large']\n",
    "\n",
    "X_train = train_df[feature_columns].values\n",
    "y_train = train_df['price_val'].values\n",
    "\n",
    "X_test = test_df[feature_columns].values\n",
    "y_test = test_df['price_val'].values\n",
    "\n",
    "X_val = validation_df[feature_columns].values\n",
    "y_val = validation_df['price_val'].values\n",
    "\n",
    "class DecisionTreeRegressorScratch:\n",
    "    def __init__(self, min_samples_split=2, max_depth=None):\n",
    "        self.min_samples_split = min_samples_split\n",
    "        self.max_depth = max_depth\n",
    "        self.tree_ = None\n",
    "\n",
    "    def fit(self, X, y):\n",
    "        self.tree_ = self._build_tree(X, y, depth=0)\n",
    "\n",
    "    def _build_tree(self, X, y, depth):\n",
    "        if (self.max_depth is not None and depth >= self.max_depth) or \\\n",
    "           len(y) < self.min_samples_split or len(set(y)) == 1:\n",
    "            return {'type': 'leaf', 'value': np.mean(y)}\n",
    "\n",
    "        feature_idx, threshold, score = self._find_best_split(X, y)\n",
    "        if feature_idx is None:\n",
    "            return {'type': 'leaf', 'value': np.mean(y)}\n",
    "\n",
    "        left_mask = X[:, feature_idx] <= threshold\n",
    "        right_mask = ~left_mask\n",
    "\n",
    "        return {\n",
    "            'type': 'node',\n",
    "            'feature_idx': feature_idx,\n",
    "            'threshold': threshold,\n",
    "            'left': self._build_tree(X[left_mask], y[left_mask], depth + 1),\n",
    "            'right': self._build_tree(X[right_mask], y[right_mask], depth + 1)\n",
    "        }\n",
    "\n",
    "    def _find_best_split(self, X, y):\n",
    "        best_feature = None\n",
    "        best_threshold = None\n",
    "        best_score = float('inf')\n",
    "\n",
    "        current_mse = np.mean((y - np.mean(y))**2)\n",
    "\n",
    "        n_samples, n_features = X.shape\n",
    "        for f in range(n_features):\n",
    "            values = np.unique(X[:, f])\n",
    "            if len(values) == 1:\n",
    "                continue\n",
    "            for val in values:\n",
    "                left_mask = X[:, f] <= val\n",
    "                right_mask = ~left_mask\n",
    "\n",
    "                if np.sum(left_mask) == 0 or np.sum(right_mask) == 0:\n",
    "                    continue\n",
    "\n",
    "                left_y = y[left_mask]\n",
    "                right_y = y[right_mask]\n",
    "\n",
    "                left_mse = np.mean((left_y - np.mean(left_y))**2)\n",
    "                right_mse = np.mean((right_y - np.mean(right_y))**2)\n",
    "\n",
    "                split_mse = (len(left_y) * left_mse + len(right_y) * right_mse) / n_samples\n",
    "\n",
    "                if split_mse < best_score:\n",
    "                    best_score = split_mse\n",
    "                    best_feature = f\n",
    "                    best_threshold = val\n",
    "\n",
    "        if best_score >= current_mse:\n",
    "            return None, None, current_mse\n",
    "\n",
    "        return best_feature, best_threshold, best_score\n",
    "\n",
    "    def predict_one(self, x):\n",
    "        node = self.tree_\n",
    "        while node['type'] == 'node':\n",
    "            if x[node['feature_idx']] <= node['threshold']:\n",
    "                node = node['left']\n",
    "            else:\n",
    "                node = node['right']\n",
    "        return node['value']\n",
    "\n",
    "    def predict(self, X):\n",
    "        return np.array([self.predict_one(row) for row in X])\n",
    "\n",
    "tree_model = DecisionTreeRegressorScratch(min_samples_split=2, max_depth=3)\n",
    "tree_model.fit(X_train, y_train)\n",
    "\n",
    "y_train_pred = tree_model.predict(X_train)\n",
    "y_test_pred = tree_model.predict(X_test)\n",
    "y_val_pred = tree_model.predict(X_val)\n",
    "\n",
    "def mse(y_true, y_pred):\n",
    "    return np.mean((y_true - y_pred)**2)\n",
    "\n",
    "train_mse = mse(y_train, y_train_pred)\n",
    "test_mse = mse(y_test, y_test_pred)\n",
    "val_mse = mse(y_val, y_val_pred)\n",
    "\n",
    "print(\"Training Predictions:\", y_train_pred)\n",
    "print(\"Test Predictions:\", y_test_pred)\n",
    "print(\"Validation Predictions:\", y_val_pred)\n",
    "\n",
    "print(\"\\nTraining Metrics:\")\n",
    "print(\"  MSE:\", train_mse)\n",
    "\n",
    "print(\"\\nTest Metrics:\")\n",
    "print(\"  MSE:\", test_mse)\n",
    "\n",
    "print(\"\\nValidation Metrics:\")\n",
    "print(\"  MSE:\", val_mse)\n"
   ]
  },
  {
   "cell_type": "code",
   "execution_count": 325,
   "metadata": {},
   "outputs": [
    {
     "data": {
      "image/png": "[encoded data removed]",
      "text/plain": [
       "<Figure size 640x480 with 1 Axes>"
      ]
     },
     "metadata": {},
     "output_type": "display_data"
    },
    {
     "data": {
      "image/png": "[encoded data removed]",
      "text/plain": [
       "<Figure size 640x480 with 1 Axes>"
      ]
     },
     "metadata": {},
     "output_type": "display_data"
    },
    {
     "data": {
      "image/png": "[encoded data removed]",
      "text/plain": [
       "<Figure size 640x480 with 1 Axes>"
      ]
     },
     "metadata": {},
     "output_type": "display_data"
    }
   ],
   "source": [
    "plt.scatter(range(len(y_train)), y_train, color='blue', label='Actual Training')\n",
    "plt.scatter(range(len(y_train_pred)), y_train_pred, color='red', marker='x', label='Predicted Training')\n",
    "plt.title('Training Data: Actual vs Predicted')\n",
    "plt.legend()\n",
    "plt.show()\n",
    "\n",
    "plt.scatter(range(len(y_test)), y_test, color='green', label='Actual Test')\n",
    "plt.scatter(range(len(y_test_pred)), y_test_pred, color='orange', marker='x', label='Predicted Test')\n",
    "plt.title('Test Data: Actual vs Predicted')\n",
    "plt.legend()\n",
    "plt.show()\n",
    "\n",
    "plt.scatter(range(len(y_val)), y_val, color='purple', label='Actual Validation')\n",
    "plt.scatter(range(len(y_val_pred)), y_val_pred, color='brown', marker='x', label='Predicted Validation')\n",
    "plt.title('Validation Data: Actual vs Predicted')\n",
    "plt.legend()\n",
    "plt.show()"
   ]
  }
 ],
 "metadata": {
  "kernelspec": {
   "display_name": "Python 3",
   "language": "python",
   "name": "python3"
  },
  "language_info": {
   "codemirror_mode": {
    "name": "ipython",
    "version": 3
   },
   "file_extension": ".py",
   "mimetype": "text/x-python",
   "name": "python",
   "nbconvert_exporter": "python",
   "pygments_lexer": "ipython3",
   "version": "3.12.7"
  }
 },
 "nbformat": 4,
 "nbformat_minor": 2
}
